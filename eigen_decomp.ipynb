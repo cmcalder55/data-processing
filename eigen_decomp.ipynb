{
 "cells": [
  {
   "cell_type": "markdown",
   "id": "6f300fac-605d-406a-8089-c2017b33cdde",
   "metadata": {
    "tags": []
   },
   "source": [
    "# 2.1"
   ]
  },
  {
   "cell_type": "code",
   "execution_count": 1,
   "id": "2b3baec3-2bb3-401f-b35a-65b2a47c9f58",
   "metadata": {},
   "outputs": [],
   "source": [
    "import numpy as np\n",
    "from numpy.linalg import eig"
   ]
  },
  {
   "cell_type": "code",
   "execution_count": 104,
   "id": "72e91afa-e78d-49e4-9121-d7257340478a",
   "metadata": {},
   "outputs": [],
   "source": [
    "# training samples D = {D1,D2}\n",
    "d1 = [[1,2],[-3,-1],[4,5],[-1,1]]\n",
    "d2 = [[0,-2],[5,2],[-1,-4],[3,1]]\n",
    "d = [np.array([i]).transpose() for i in d1+d2]\n",
    "# mean of training data vector\n",
    "m = sum(d)/len(d)"
   ]
  },
  {
   "cell_type": "code",
   "execution_count": 105,
   "id": "76840b77-bf52-40c2-bfea-5100bda2d2f1",
   "metadata": {},
   "outputs": [],
   "source": [
    "# difference between x_k and mean vector\n",
    "xk_m = [i-m for i in d]"
   ]
  },
  {
   "cell_type": "code",
   "execution_count": 106,
   "id": "95563c22-2a28-40a2-91c1-de5946f765e8",
   "metadata": {},
   "outputs": [],
   "source": [
    "# get dot product of each data sample and its transpose and sum to get S matrix\n",
    "S_sum = np.sum([i.dot(i.T) for i in xk_m],0)\n",
    "e_val, e_vec = eig(S_sum)"
   ]
  },
  {
   "cell_type": "code",
   "execution_count": 107,
   "id": "6c6388a5-2d28-427f-8a50-b526619dbe75",
   "metadata": {},
   "outputs": [
    {
     "data": {
      "text/plain": [
       "array([91., 17.])"
      ]
     },
     "execution_count": 107,
     "metadata": {},
     "output_type": "execute_result"
    }
   ],
   "source": [
    "e_val # eigenvalues lambda = (lambda1, lambda2)"
   ]
  },
  {
   "cell_type": "code",
   "execution_count": 108,
   "id": "ee4d4ba1-4f6b-4740-b1e8-e45ee747ecaf",
   "metadata": {},
   "outputs": [
    {
     "data": {
      "text/plain": [
       "array([[ 0.70710678, -0.70710678],\n",
       "       [ 0.70710678,  0.70710678]])"
      ]
     },
     "execution_count": 108,
     "metadata": {},
     "output_type": "execute_result"
    }
   ],
   "source": [
    "e_vec"
   ]
  },
  {
   "cell_type": "code",
   "execution_count": 109,
   "id": "48117346-a9d7-4ccb-889e-96ea193208fb",
   "metadata": {},
   "outputs": [],
   "source": [
    "# use eigen decomp values to reconstruct data\n",
    "e = np.amax(e_vec,0) # choose dominant eigenvalue by selecting largest column/eigenvector\n",
    "# calculate PDA classifier\n",
    "ak = np.dot(e.T,xk_m)\n",
    "xk_PCA = m.T + ak*e"
   ]
  },
  {
   "cell_type": "code",
   "execution_count": 110,
   "id": "686d0278-16dc-409d-8218-19df74c6b180",
   "metadata": {
    "tags": []
   },
   "outputs": [
    {
     "data": {
      "text/plain": [
       "array([[ 1.75,  1.25],\n",
       "       [-1.75, -2.25],\n",
       "       [ 4.75,  4.25],\n",
       "       [ 0.25, -0.25],\n",
       "       [-0.75, -1.25],\n",
       "       [ 3.75,  3.25],\n",
       "       [-2.25, -2.75],\n",
       "       [ 2.25,  1.75]])"
      ]
     },
     "execution_count": 110,
     "metadata": {},
     "output_type": "execute_result"
    }
   ],
   "source": [
    "xk_PCA"
   ]
  },
  {
   "cell_type": "markdown",
   "id": "7ca7ba1d-6e89-493b-bc1a-f7a96acfaf58",
   "metadata": {},
   "source": [
    "# 2.2"
   ]
  },
  {
   "cell_type": "code",
   "execution_count": 111,
   "id": "fa4f9618-ca2d-478d-998e-5a84b662b73f",
   "metadata": {},
   "outputs": [],
   "source": [
    "m1,m2 = sum(d[:4])/len(d[:4]), sum(d[4:])/len(d[4:])\n",
    "m_diff = m1-m2"
   ]
  },
  {
   "cell_type": "code",
   "execution_count": 112,
   "id": "a8fa7ec7-7bbf-4c11-9762-5814f9ea208d",
   "metadata": {},
   "outputs": [],
   "source": [
    "# difference between x_k and mean vector\n",
    "xk_m1 = [i-m1 for i in d[:4]]\n",
    "xk_m2 = [i-m2 for i in d[4:]]"
   ]
  },
  {
   "cell_type": "code",
   "execution_count": 113,
   "id": "2cdff58d-d5d0-411b-b49b-eb5db582fcde",
   "metadata": {},
   "outputs": [],
   "source": [
    "# get dot product of each data sample and its transpose and sum to get S matrix\n",
    "S1 = np.sum([i.dot(i.T) for i in xk_m1],0)\n",
    "S2 = np.sum([i.dot(i.T) for i in xk_m2],0)\n",
    "\n",
    "S = S1 + S2"
   ]
  },
  {
   "cell_type": "code",
   "execution_count": 114,
   "id": "8c3c1f1a-2a3b-4c17-85e5-a35230038823",
   "metadata": {},
   "outputs": [],
   "source": [
    "# calculate LCA classifier\n",
    "w = np.linalg.inv(S).dot(m_diff)\n",
    "yk1,yk2 = np.dot(w.T,d[:4]), np.dot(w.T,d[4:])"
   ]
  },
  {
   "cell_type": "code",
   "execution_count": 132,
   "id": "3c07b909-0ee5-481e-a78e-06083ee4a471",
   "metadata": {},
   "outputs": [],
   "source": [
    "# reconstruct data\n",
    "xk_LDA = np.append(yk1.dot(w.T),yk2.dot(w.T),0)"
   ]
  },
  {
   "cell_type": "code",
   "execution_count": 133,
   "id": "dd99ccb8-e601-46c2-841b-5abbb728a4a4",
   "metadata": {},
   "outputs": [
    {
     "data": {
      "text/plain": [
       "array([[ -6.57436998,   7.21854456],\n",
       "       [-10.45562454,  11.48009496],\n",
       "       [ -8.19023923,   8.99274105],\n",
       "       [-11.53287071,  12.66289262],\n",
       "       [ 12.07149379, -13.25429145],\n",
       "       [ 15.41412527, -16.92444302],\n",
       "       [ 18.64586377, -20.47283601],\n",
       "       [ 10.45562454, -11.48009496]])"
      ]
     },
     "execution_count": 133,
     "metadata": {},
     "output_type": "execute_result"
    }
   ],
   "source": [
    "xk_LDA"
   ]
  }
 ],
 "metadata": {
  "kernelspec": {
   "display_name": "Python 3 (ipykernel)",
   "language": "python",
   "name": "python3"
  },
  "language_info": {
   "codemirror_mode": {
    "name": "ipython",
    "version": 3
   },
   "file_extension": ".py",
   "mimetype": "text/x-python",
   "name": "python",
   "nbconvert_exporter": "python",
   "pygments_lexer": "ipython3",
   "version": "3.10.9"
  }
 },
 "nbformat": 4,
 "nbformat_minor": 5
}
